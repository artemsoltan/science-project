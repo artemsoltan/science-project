{
 "cells": [
  {
   "cell_type": "markdown",
   "id": "2887a305-83a1-431d-91f8-a84801eb5664",
   "metadata": {},
   "source": [
    "## Installing packages"
   ]
  },
  {
   "cell_type": "code",
   "execution_count": 14,
   "id": "1d9afd20-5b2b-4aa0-8162-bfbdc5e28734",
   "metadata": {},
   "outputs": [],
   "source": [
    "# pip install tensorflow\n",
    "# pip install matplotlib"
   ]
  },
  {
   "cell_type": "markdown",
   "id": "271408fd-70cd-4920-907f-4b281acadd6a",
   "metadata": {},
   "source": [
    "## Imporing libraries"
   ]
  },
  {
   "cell_type": "code",
   "execution_count": 23,
   "id": "a829ce72-f7e2-48ac-9971-0903317cffe6",
   "metadata": {},
   "outputs": [],
   "source": [
    "import pathlib\n",
    "import matplotlib.pyplot as plt\n",
    "import numpy as np\n",
    "import tensorflow as tf\n",
    "from tensorflow.keras.models import Sequential\n",
    "from tensorflow.keras.layers import Convolution2D, MaxPooling2D, Flatten, Dense, Dropout, MaxPool2D , Flatten, Conv2D\n",
    "from tensorflow.keras.activations import relu, linear, softmax\n",
    "from sklearn.model_selection import train_test_split"
   ]
  },
  {
   "cell_type": "markdown",
   "id": "5b8763e0-0350-4647-bfc5-bec2c1bb7866",
   "metadata": {},
   "source": [
    "## Path to dataset and print count of images"
   ]
  },
  {
   "cell_type": "code",
   "execution_count": 24,
   "id": "cb1f7159-c6f7-4645-894a-14cc019b3cf6",
   "metadata": {},
   "outputs": [
    {
     "name": "stdout",
     "output_type": "stream",
     "text": [
      "Images: 4317\n"
     ]
    }
   ],
   "source": [
    "dataset_lib = pathlib.Path(\"D:/Projects/Python/science-project/dataset\")\n",
    "image_count = len(list(dataset_lib.glob(\"*/*.jpg\")))\n",
    "print(f\"Images: {image_count}\")"
   ]
  },
  {
   "cell_type": "markdown",
   "id": "70f60a5f-7441-4c00-a0fe-df868b073c4b",
   "metadata": {},
   "source": [
    "## Images parametrs"
   ]
  },
  {
   "cell_type": "code",
   "execution_count": 25,
   "id": "769804df-aef7-433c-90d6-141e868009b3",
   "metadata": {},
   "outputs": [],
   "source": [
    "batch_size = 32\n",
    "img_width = 28\n",
    "img_height = 28\n",
    "img_channel = 3 # RGB - 3, color grayscale(black and white) - 1"
   ]
  },
  {
   "cell_type": "markdown",
   "id": "7f9a85e8-cd2f-43f1-a889-3f5eaeaf53f0",
   "metadata": {},
   "source": [
    "## Create training and validation dataset"
   ]
  },
  {
   "cell_type": "code",
   "execution_count": 26,
   "id": "12a2ecdb-21a0-40ab-96e1-b0ecca414315",
   "metadata": {},
   "outputs": [
    {
     "name": "stdout",
     "output_type": "stream",
     "text": [
      "Found 4317 files belonging to 5 classes.\n",
      "x_train:  (2718, 28, 28, 3)\n",
      "x_text:  (1296, 28, 28, 3)\n",
      "x_val:  (303, 28, 28, 3)\n"
     ]
    }
   ],
   "source": [
    "full_ds = tf.keras.utils.image_dataset_from_directory(\n",
    "    dataset_lib,\n",
    "    image_size=(img_height, img_width),\n",
    "    batch_size=batch_size,\n",
    "    shuffle=True\n",
    ")\n",
    "\n",
    "x=[]\n",
    "y=[]\n",
    "\n",
    "for images, labels in full_ds:\n",
    "    x.extend(images.numpy())\n",
    "    y.extend(labels.numpy())\n",
    "\n",
    "x_train, x_test, y_train, y_test = train_test_split(x, y, test_size=0.2, random_state=42) # 20% images for testing, other for training\n",
    "\n",
    "# Convert x,y to array\n",
    "x_train = np.array(x_train)\n",
    "x_test = np.array(x_test)\n",
    "y_train = np.array(y_train)\n",
    "y_test = np.array(y_test)\n",
    "\n",
    "# validation - for predict during training, test - for predict after training\n",
    "x_train, x_val, y_train, y_val = train_test_split(x_train, y_train, test_size = 0.1, random_state=42) # 10% for validation\n",
    "\n",
    "# Convert from 0-255, to 0-1\n",
    "x_train_normalized = x_train / 255\n",
    "x_test_normalized = x_test / 255\n",
    "x_val_normalized = x_val / 255\n",
    "\n",
    "print(\"x_train: \", x_train.shape)\n",
    "print(\"x_text: \", x_test.shape)\n",
    "print(\"x_val: \", x_val.shape)"
   ]
  },
  {
   "cell_type": "code",
   "execution_count": 27,
   "id": "ca123a43-3dcd-4d11-9f21-fff442a887d5",
   "metadata": {},
   "outputs": [
    {
     "name": "stdout",
     "output_type": "stream",
     "text": [
      "Class names: ['daisy', 'dandelion', 'rose', 'sunflower', 'tulip']\n"
     ]
    }
   ],
   "source": [
    "class_names = full_ds.class_names\n",
    "num_classes = len(class_names)\n",
    "print(f\"Class names: {class_names}\")"
   ]
  },
  {
   "cell_type": "markdown",
   "id": "6037d509-c008-475a-8e63-9019254a3000",
   "metadata": {},
   "source": [
    "## Creating model"
   ]
  },
  {
   "cell_type": "code",
   "execution_count": 61,
   "id": "e93400e9-7f99-4363-ae75-2374214366b1",
   "metadata": {},
   "outputs": [
    {
     "name": "stdout",
     "output_type": "stream",
     "text": [
      "Model: \"sequential_10\"\n",
      "_________________________________________________________________\n",
      " Layer (type)                Output Shape              Param #   \n",
      "=================================================================\n",
      " conv2d_31 (Conv2D)          (None, 28, 28, 32)        2432      \n",
      "                                                                 \n",
      " conv2d_32 (Conv2D)          (None, 28, 28, 32)        25632     \n",
      "                                                                 \n",
      " max_pooling2d_17 (MaxPooli  (None, 14, 14, 32)        0         \n",
      " ng2D)                                                           \n",
      "                                                                 \n",
      " dropout_23 (Dropout)        (None, 14, 14, 32)        0         \n",
      "                                                                 \n",
      " conv2d_33 (Conv2D)          (None, 14, 14, 64)        18496     \n",
      "                                                                 \n",
      " conv2d_34 (Conv2D)          (None, 14, 14, 64)        36928     \n",
      "                                                                 \n",
      " max_pooling2d_18 (MaxPooli  (None, 7, 7, 64)          0         \n",
      " ng2D)                                                           \n",
      "                                                                 \n",
      " dropout_24 (Dropout)        (None, 7, 7, 64)          0         \n",
      "                                                                 \n",
      " flatten_10 (Flatten)        (None, 3136)              0         \n",
      "                                                                 \n",
      " dense_21 (Dense)            (None, 256)               803072    \n",
      "                                                                 \n",
      " dropout_25 (Dropout)        (None, 256)               0         \n",
      "                                                                 \n",
      " dense_22 (Dense)            (None, 10)                2570      \n",
      "                                                                 \n",
      "=================================================================\n",
      "Total params: 889130 (3.39 MB)\n",
      "Trainable params: 889130 (3.39 MB)\n",
      "Non-trainable params: 0 (0.00 Byte)\n",
      "_________________________________________________________________\n"
     ]
    }
   ],
   "source": [
    "model = Sequential()\n",
    "\n",
    "model.add(Convolution2D(filters = 32, kernel_size = (5,5),padding = 'Same', \n",
    "                 activation ='relu', input_shape = (img_width,img_height,img_channel)))\n",
    "model.add(Convolution2D(filters = 32, kernel_size = (5,5),padding = 'Same', \n",
    "                 activation ='relu'))\n",
    "model.add(MaxPooling2D(pool_size=(2,2)))\n",
    "model.add(Dropout(0.25))\n",
    "\n",
    "model.add(Convolution2D(filters = 64, kernel_size = (3,3),padding = 'Same', \n",
    "                 activation ='relu'))\n",
    "model.add(Convolution2D(filters = 64, kernel_size = (3,3),padding = 'Same', \n",
    "                 activation ='relu'))\n",
    "model.add(MaxPooling2D(pool_size=(2,2), strides=(2,2)))\n",
    "model.add(Dropout(0.25))\n",
    "\n",
    "model.add(Flatten())\n",
    "model.add(Dense(256, activation = \"relu\"))\n",
    "model.add(Dropout(0.5))\n",
    "model.add(Dense(10, activation = \"softmax\"))\n",
    "model.summary()"
   ]
  },
  {
   "cell_type": "markdown",
   "id": "ed2189e7-40ac-4fcd-a4e0-7238ab3026e5",
   "metadata": {},
   "source": [
    "## Compiling model"
   ]
  },
  {
   "cell_type": "code",
   "execution_count": 58,
   "id": "a92480d2-7d2c-476b-957b-125d1508dcb6",
   "metadata": {},
   "outputs": [],
   "source": [
    "model.compile(optimizer='adam',\n",
    "              loss=tf.keras.losses.SparseCategoricalCrossentropy(),\n",
    "              metrics=['accuracy'])"
   ]
  },
  {
   "cell_type": "markdown",
   "id": "06bedea3-13e2-4231-ba01-8ecb661ee291",
   "metadata": {},
   "source": [
    "## Training model"
   ]
  },
  {
   "cell_type": "code",
   "execution_count": 59,
   "id": "fd789b5b-d2d6-4e7c-af8c-4993c6b6ce05",
   "metadata": {},
   "outputs": [
    {
     "name": "stdout",
     "output_type": "stream",
     "text": [
      "\n",
      "Training start...\n",
      "\n",
      "Epoch 1/15\n",
      "85/85 [==============================] - 5s 38ms/step - loss: 1.6419 - accuracy: 0.2726 - val_loss: 1.2690 - val_accuracy: 0.4554\n",
      "Epoch 2/15\n",
      "85/85 [==============================] - 3s 34ms/step - loss: 1.3193 - accuracy: 0.4364 - val_loss: 1.1473 - val_accuracy: 0.5182\n",
      "Epoch 3/15\n",
      "85/85 [==============================] - 3s 38ms/step - loss: 1.2362 - accuracy: 0.4926 - val_loss: 1.1806 - val_accuracy: 0.4983\n",
      "Epoch 4/15\n",
      "85/85 [==============================] - 3s 35ms/step - loss: 1.1740 - accuracy: 0.5169 - val_loss: 1.0044 - val_accuracy: 0.5776\n",
      "Epoch 5/15\n",
      "85/85 [==============================] - 3s 35ms/step - loss: 1.1124 - accuracy: 0.5537 - val_loss: 0.9485 - val_accuracy: 0.6073\n",
      "Epoch 6/15\n",
      "85/85 [==============================] - 3s 35ms/step - loss: 1.0746 - accuracy: 0.5710 - val_loss: 0.9678 - val_accuracy: 0.6073\n",
      "Epoch 7/15\n",
      "85/85 [==============================] - 3s 35ms/step - loss: 1.0423 - accuracy: 0.5905 - val_loss: 0.9419 - val_accuracy: 0.6205\n",
      "Epoch 8/15\n",
      "85/85 [==============================] - 3s 36ms/step - loss: 0.9937 - accuracy: 0.6038 - val_loss: 0.8844 - val_accuracy: 0.6304\n",
      "Epoch 9/15\n",
      "85/85 [==============================] - 3s 35ms/step - loss: 0.9543 - accuracy: 0.6277 - val_loss: 0.8817 - val_accuracy: 0.6601\n",
      "Epoch 10/15\n",
      "85/85 [==============================] - 3s 35ms/step - loss: 0.9133 - accuracy: 0.6453 - val_loss: 0.7931 - val_accuracy: 0.7096\n",
      "Epoch 11/15\n",
      "85/85 [==============================] - 3s 37ms/step - loss: 0.8736 - accuracy: 0.6637 - val_loss: 0.8424 - val_accuracy: 0.6931\n",
      "Epoch 12/15\n",
      "85/85 [==============================] - 3s 35ms/step - loss: 0.8630 - accuracy: 0.6608 - val_loss: 0.8063 - val_accuracy: 0.6799\n",
      "Epoch 13/15\n",
      "85/85 [==============================] - 3s 35ms/step - loss: 0.8434 - accuracy: 0.6689 - val_loss: 0.8362 - val_accuracy: 0.6700\n",
      "Epoch 14/15\n",
      "85/85 [==============================] - 3s 36ms/step - loss: 0.7798 - accuracy: 0.6891 - val_loss: 0.7809 - val_accuracy: 0.7063\n",
      "Epoch 15/15\n",
      "85/85 [==============================] - 3s 35ms/step - loss: 0.7615 - accuracy: 0.7134 - val_loss: 0.8529 - val_accuracy: 0.6700\n"
     ]
    }
   ],
   "source": [
    "print()\n",
    "print('Training start...')\n",
    "print()\n",
    "\n",
    "epochs = 15\n",
    "history = model.fit(\n",
    "    x_train_normalized,\n",
    "    y_train,\n",
    "    validation_data=(x_val_normalized, y_val),\n",
    "    epochs=epochs\n",
    ")"
   ]
  },
  {
   "cell_type": "markdown",
   "id": "0aa97276-84a6-4eec-bb4f-c6c5abc9addb",
   "metadata": {},
   "source": [
    "## Statistics"
   ]
  },
  {
   "cell_type": "code",
   "execution_count": 60,
   "id": "51ae3343-c2a4-4b44-b116-f023e8fc36da",
   "metadata": {},
   "outputs": [
    {
     "data": {
      "image/png": "[encoded data removed]",
      "text/plain": [
       "<Figure size 1200x600 with 2 Axes>"
      ]
     },
     "metadata": {},
     "output_type": "display_data"
    }
   ],
   "source": [
    "acc = history.history['accuracy']\n",
    "val_acc = history.history['val_accuracy']\n",
    "\n",
    "loss = history.history['loss']\n",
    "val_loss = history.history['val_loss']\n",
    "\n",
    "epochs_range = range(epochs)\n",
    "\n",
    "plt.figure(figsize=(12, 6))\n",
    "\n",
    "plt.subplot(1, 2, 1)\n",
    "plt.plot(epochs_range, acc, label=\"Training Accuracy\")\n",
    "plt.plot(epochs_range, val_acc, label=\"Validation Accuracy\")\n",
    "plt.legend(loc='lower right')\n",
    "plt.title('Training and Validation Accuracy')\n",
    "\n",
    "plt.subplot(1, 2, 2)\n",
    "plt.plot(epochs_range, loss, label=\"Training Loss\")\n",
    "plt.plot(epochs_range, val_loss, label=\"Validation Loss\")\n",
    "plt.legend(loc='upper right')\n",
    "plt.title('Training and Validation Loss')\n",
    "\n",
    "plt.show()"
   ]
  },
  {
   "cell_type": "markdown",
   "id": "8dcb7fe6-4fca-4091-8761-c5f50db46e95",
   "metadata": {},
   "source": [
    "## Saving model"
   ]
  },
  {
   "cell_type": "code",
   "execution_count": 10,
   "id": "73cba56c-86cf-4394-93fc-af6e50bbc933",
   "metadata": {},
   "outputs": [
    {
     "name": "stdout",
     "output_type": "stream",
     "text": [
      "\n",
      "Training end!\n",
      "Saving model...\n",
      "Model saved!\n"
     ]
    }
   ],
   "source": [
    "print()\n",
    "print('Training end!')\n",
    "print('Saving model...')\n",
    "\n",
    "#model.save('architecture.keras')\n",
    "\n",
    "print('Model saved!')"
   ]
  }
 ],
 "metadata": {
  "kernelspec": {
   "display_name": "Python 3 (ipykernel)",
   "language": "python",
   "name": "python3"
  },
  "language_info": {
   "codemirror_mode": {
    "name": "ipython",
    "version": 3
   },
   "file_extension": ".py",
   "mimetype": "text/x-python",
   "name": "python",
   "nbconvert_exporter": "python",
   "pygments_lexer": "ipython3",
   "version": "3.11.3"
  }
 },
 "nbformat": 4,
 "nbformat_minor": 5
}
